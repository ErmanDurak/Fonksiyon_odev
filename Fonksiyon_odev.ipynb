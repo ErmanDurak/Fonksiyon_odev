{
  "cells": [
    {
      "cell_type": "markdown",
      "metadata": {
        "id": "WoEcgqjX0ua8"
      },
      "source": [
        "#### Ödev 1\n",
        "Kullanıcıdan pi değeri ve yarıçap bilgisi alarak dairenin alanını hesaplayan bir fonksiyon oluşturulur."
      ]
    },
    {
      "cell_type": "code",
      "execution_count": null,
      "metadata": {
        "vscode": {
          "languageId": "plaintext"
        },
        "id": "C3z67nkW0ua9",
        "outputId": "d42222fd-231a-44f8-d9f4-4923bac41218",
        "colab": {
          "base_uri": "https://localhost:8080/"
        }
      },
      "outputs": [
        {
          "output_type": "stream",
          "name": "stdout",
          "text": [
            "dairenin alanı: 15.700000000000001\n"
          ]
        }
      ],
      "source": [
        "def daire_alani(pi, r):\n",
        "  alan = pi * r\n",
        "  print(f\"dairenin alanı: {alan}\")\n",
        "daire_alani(3.14, 5)"
      ]
    },
    {
      "cell_type": "markdown",
      "metadata": {
        "id": "NgxP590R0ua9"
      },
      "source": [
        "#### Ödev 2\n",
        "\n",
        "Faktöriyel adında fonksiyon oluşturulur. Döngü kullanarak parametre olarak girilen sayının faktöriyeli hesaplanır. Format metodunu kullanılarak ekrana yazdırılır."
      ]
    },
    {
      "cell_type": "code",
      "execution_count": null,
      "metadata": {
        "vscode": {
          "languageId": "plaintext"
        },
        "id": "Op3ChO9G0ua-",
        "outputId": "068e73dc-5aa9-4535-ecd2-8c350c6d7e07",
        "colab": {
          "base_uri": "https://localhost:8080/"
        }
      },
      "outputs": [
        {
          "output_type": "stream",
          "name": "stdout",
          "text": [
            "5 sayısının faktöriyeli: 120\n"
          ]
        }
      ],
      "source": [
        "def faktoriyel(sayi):\n",
        "  baslangıc = 1\n",
        "  for i in range(1, sayi + 1):\n",
        "    baslangıc *= i\n",
        "  print(\"{} sayısının faktöriyeli: {}\".format(sayi, baslangıc))\n",
        "faktoriyel(5)"
      ]
    },
    {
      "cell_type": "markdown",
      "metadata": {
        "id": "yV-reOPg0ua-"
      },
      "source": [
        "#### Ödev 3\n",
        "Kişinin fonksiyona doğum yılını vererek kaç yaşında olduğunu hesaplayan bir fonksiyon oluşturun."
      ]
    },
    {
      "cell_type": "code",
      "execution_count": null,
      "metadata": {
        "vscode": {
          "languageId": "plaintext"
        },
        "id": "BWTbat290ua_",
        "outputId": "0d6111d2-766b-4675-97d2-77ac33f42064",
        "colab": {
          "base_uri": "https://localhost:8080/"
        }
      },
      "outputs": [
        {
          "output_type": "stream",
          "name": "stdout",
          "text": [
            "yaşınız: 144\n"
          ]
        }
      ],
      "source": [
        "def yas_hesaplama(dogum_yili):\n",
        "  yas = 2025 - dogum_yili\n",
        "  print(f\"yaşınız: {yas}\")\n",
        "yas_hesaplama(1881)"
      ]
    },
    {
      "cell_type": "markdown",
      "metadata": {
        "id": "9zWaee3R0ua_"
      },
      "source": [
        "#### Ödev 4\n",
        "\n",
        "Doğum yılı ve isim bilgisi verilen fonksiyon kişinin emekli olup olmadığını söylesin.(Kişi 65 yaşında ise emekli olur.) Burada yaş hesabını yukarıdaki örnekteki fonksiyonu kullanarak yapsın.(Yani fonksiyon içinde fonksiyon kullanmanızı istiyorum :)) Kişi 65 yaşında ya da daha fazlaysa \"Emekli oldunuz\" yanıtını, 65 yaşından küçükse emekliliğine kaç yıl kaldığını da hesaplayarak \"(isim) emekliliğine (yıl) kaldı.\" yanıtını versin."
      ]
    },
    {
      "cell_type": "code",
      "execution_count": null,
      "metadata": {
        "vscode": {
          "languageId": "plaintext"
        },
        "id": "AXsBQFSk0ua_",
        "outputId": "fec29f9b-263a-40e2-f2d1-79bde94ff28f",
        "colab": {
          "base_uri": "https://localhost:8080/"
        }
      },
      "outputs": [
        {
          "output_type": "stream",
          "name": "stdout",
          "text": [
            "Erman, emekliliğine 42 yıl kaldı\n"
          ]
        }
      ],
      "source": [
        "def yas_hesaplama(dogum_yili, isim):\n",
        "  yas = 2025 - dogum_yili\n",
        "  if yas >= 65:\n",
        "    print(\"Emekli oldunuz\")\n",
        "  else:\n",
        "    kalan = 65 - yas\n",
        "    print(f\"{isim}, emekliliğine {kalan} yıl kaldı\")\n",
        "\n",
        "yas_hesaplama(2002, \"Erman\")\n"
      ]
    }
  ],
  "metadata": {
    "language_info": {
      "name": "python"
    },
    "colab": {
      "provenance": []
    },
    "kernelspec": {
      "name": "python3",
      "display_name": "Python 3"
    }
  },
  "nbformat": 4,
  "nbformat_minor": 0
}